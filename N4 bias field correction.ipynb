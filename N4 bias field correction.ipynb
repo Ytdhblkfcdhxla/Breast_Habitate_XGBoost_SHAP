{
 "cells": [
  {
   "cell_type": "code",
   "execution_count": null,
   "id": "f6ed0462",
   "metadata": {},
   "outputs": [],
   "source": [
    "import SimpleITK as sitk\n",
    "imagePath = r''\n",
    "input_image = sitk.ReadImage(imagePath)\n",
    "mask_image = sitk.OtsuThreshold(input_image,0,1,200)\n",
    "input_image = sitk.Cast(input_image, sitk.sitkFloat32)\n",
    "corrector = sitk.N4BiasFieldCorrectionImageFilter()\n",
    "output_image = corrector.Execute(input_image,mask_image)\n",
    "output_image = sitk.Cast(output_image, sitk.sitkInt16)\n",
    "sitk.WriteImage(output_image, r'')\n"
   ]
  },
  {
   "cell_type": "code",
   "execution_count": null,
   "id": "66e14974",
   "metadata": {},
   "outputs": [],
   "source": [
    "\n",
    "import os\n",
    "import SimpleITK as sitk\n",
    "\n",
    "input_folder = r\"\"\n",
    "\n",
    "output_folder = os.path.join(input_folder, \"output\")\n",
    "if not os.path.exists(output_folder):\n",
    "    os.makedirs(output_folder)\n",
    "\n",
    "for filename in os.listdir(input_folder):\n",
    "    if filename.endswith(\".nii.gz\"):\n",
    "        \n",
    "        input_path = os.path.join(input_folder, filename)\n",
    "        output_path = os.path.join(output_folder, filename)\n",
    "        \n",
    "        input_image = sitk.ReadImage(input_path)\n",
    "        \n",
    "        input_image = sitk.Cast(input_image, sitk.sitkFloat32)\n",
    "        mask_image = sitk.OtsuThreshold(input_image, 0, 1, 200)\n",
    "        corrector = sitk.N4BiasFieldCorrectionImageFilter()\n",
    "        output_image = corrector.Execute(input_image, mask_image)\n",
    "        output_image = sitk.Cast(output_image, sitk.sitkInt16)\n",
    "        \n",
    "        sitk.WriteImage(output_image, output_path)"
   ]
  }
 ],
 "metadata": {
  "kernelspec": {
   "display_name": "Python 3 (ipykernel)",
   "language": "python",
   "name": "python3"
  },
  "language_info": {
   "codemirror_mode": {
    "name": "ipython",
    "version": 3
   },
   "file_extension": ".py",
   "mimetype": "text/x-python",
   "name": "python",
   "nbconvert_exporter": "python",
   "pygments_lexer": "ipython3",
   "version": "3.10.9"
  }
 },
 "nbformat": 4,
 "nbformat_minor": 5
}
